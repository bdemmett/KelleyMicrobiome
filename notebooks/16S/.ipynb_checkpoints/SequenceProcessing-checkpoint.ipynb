{
 "cells": [
  {
   "cell_type": "markdown",
   "id": "e12e8a61-041f-4f01-8f2a-6257bc0dc679",
   "metadata": {},
   "source": [
    "# QIIME2 workflow"
   ]
  },
  {
   "cell_type": "code",
   "execution_count": 1,
   "id": "c455220c-896b-4b3d-8bbd-8ede8acf2283",
   "metadata": {},
   "outputs": [],
   "source": [
    "import os, re, numpy as np, pandas as ps\n"
   ]
  },
  {
   "cell_type": "markdown",
   "id": "e5c1492e-5797-445c-a82d-111a959b8165",
   "metadata": {},
   "source": [
    "## User input"
   ]
  },
  {
   "cell_type": "code",
   "execution_count": 4,
   "id": "735f9de6-5b91-426b-b916-86193b2b2784",
   "metadata": {},
   "outputs": [],
   "source": [
    "WorkDir = '/project/mmicrobe/Kelley/16S/'\n",
    "Manifest = \"Kelley2021_16S_QiimeManifest.txt\"\n",
    "processors = 24\n",
    "WorkDir+Manifest\n",
    "\n",
    "\n",
    "# Classification Database to Use \n",
    "# options: \"Silva\" [default] | \"GreenGenes\" \n",
    "db = \"Silva\"   \n",
    "\n",
    "## Enter Minimum Support for Keeping QIIME Classification\n",
    "# Note: Classifications that do not meet this criteria will simply be retained, but labeled 'putative'\n",
    "min_support = 0.8"
   ]
  },
  {
   "cell_type": "code",
   "execution_count": 9,
   "id": "74066e7f-0f69-44f3-8b82-f94c0a060c7e",
   "metadata": {},
   "outputs": [
    {
     "name": "stdout",
     "output_type": "stream",
     "text": [
      "Imported /project/mmicrobe/Kelley/16S/Kelley2021_16S_QiimeManifest.txt as PairedEndFastqManifestPhred33V2 to /project/mmicrobe/Kelley/16S/paired-end-demux.qza\n"
     ]
    },
    {
     "data": {
      "text/plain": [
       "0"
      ]
     },
     "execution_count": 9,
     "metadata": {},
     "output_type": "execute_result"
    }
   ],
   "source": [
    "os.system(' '.join([\n",
    "        \"qiime tools import\",\n",
    "        \"--type 'SampleData[PairedEndSequencesWithQuality]'\",\n",
    "        \"--input-path \"+WorkDir+Manifest,\n",
    "        \"--output-path \"+WorkDir+\"paired-end-demux.qza\",\n",
    "        \"--input-format PairedEndFastqManifestPhred33V2\"\n",
    "    ]))\n",
    "\n",
    "#qiime tools import \\\n",
    "#--type 'SampleData[PairedEndSequencesWithQuality]' \\\n",
    "#--input-path /project/mmicrobe/MLSH/16S/16S_QIIMEManifest.txt \\\n",
    "#--output-path /project/mmicrobe/MLSH/16S/paired-end-demux.qza \\\n",
    "#--input-format PairedEndFastqManifestPhred33V2"
   ]
  },
  {
   "cell_type": "code",
   "execution_count": 10,
   "id": "87e548c6-919c-42c0-adf0-d38b73eed405",
   "metadata": {},
   "outputs": [
    {
     "name": "stdout",
     "output_type": "stream",
     "text": [
      "Saved Visualization to: /project/mmicrobe/Kelley/16S/demux.qzv\n"
     ]
    },
    {
     "data": {
      "text/plain": [
       "0"
      ]
     },
     "execution_count": 10,
     "metadata": {},
     "output_type": "execute_result"
    }
   ],
   "source": [
    "os.system(' '.join([\n",
    "    \"qiime demux summarize\", \n",
    "    \"--i-data \"+WorkDir+\"paired-end-demux.qza\", \n",
    "    \"--o-visualization \"+WorkDir+\"demux.qzv\"\n",
    "    ]))"
   ]
  },
  {
   "cell_type": "markdown",
   "id": "b65d71c6-b351-42b0-bc62-9d67e8e01ba5",
   "metadata": {},
   "source": [
    "View in view.qiime2.org to see summary of reads and quality profiles"
   ]
  },
  {
   "cell_type": "code",
   "execution_count": null,
   "id": "c1142068-9ae9-43d5-80c1-69b04a2ed8f8",
   "metadata": {},
   "outputs": [],
   "source": [
    "os.system(' '.join([\n",
    "    \"qiime dada2 denoise-paired\", \n",
    "    \"--i-demultiplexed-seqs \"+WorkDir+\"paired-end-demux.qza\", \n",
    "    \"--p-trim-left-f 1\",\n",
    "    \"--p-trim-left-r 1\",\n",
    "    \"--p-trunc-len-f 210\",\n",
    "    \"--p-trunc-len-r 100\",\n",
    "    \"--o-table \"+WorkDir+\"table.qza\",\n",
    "    \"--o-representative-sequences \"+WorkDir+\"rep-seqs.qza\",\n",
    "    \"--o-denoising-stats \"+WorkDir+\"denoising-stats.qza\",\n",
    "    \"--p-n-threads 24\"\n",
    "    ]))"
   ]
  },
  {
   "cell_type": "markdown",
   "id": "37e254ac-242e-4bf0-95f1-7654409fe46f",
   "metadata": {},
   "source": [
    "### Save denoising summary"
   ]
  },
  {
   "cell_type": "code",
   "execution_count": null,
   "id": "df74e676-61c5-48de-aac7-ddb76a60d054",
   "metadata": {},
   "outputs": [],
   "source": [
    "os.system(' '.join([\n",
    "    \"qiime metadata tabulate\", \n",
    "  \"--m-input-file \"+WorkDir+\"denoising-stats.qza\",\n",
    "  \"--o-visualization \"+WorkDir+\"denoising-stats-summ.qzv\"\n",
    "     ]))"
   ]
  },
  {
   "cell_type": "code",
   "execution_count": 23,
   "id": "c4ef1e58-43fc-4e30-be38-de8eb3de6e8f",
   "metadata": {},
   "outputs": [
    {
     "data": {
      "text/plain": [
       "'/project/mmicrobe/Kelley/16S/'"
      ]
     },
     "execution_count": 23,
     "metadata": {},
     "output_type": "execute_result"
    }
   ],
   "source": [
    "WorkDir"
   ]
  },
  {
   "cell_type": "markdown",
   "id": "df143af1-90ae-413c-acbd-36efc7c00139",
   "metadata": {},
   "source": [
    "## Summarize features"
   ]
  },
  {
   "cell_type": "code",
   "execution_count": 24,
   "id": "e2b52bd6-0706-4bb9-b43a-8c68a9a33f10",
   "metadata": {},
   "outputs": [
    {
     "name": "stdout",
     "output_type": "stream",
     "text": [
      "Saved Visualization to: /project/mmicrobe/Kelley/16S/feature-table-summ.qzv\n",
      "Saved Visualization to: /project/mmicrobe/Kelley/16S/rep-seqs-summ.qzv\n"
     ]
    },
    {
     "data": {
      "text/plain": [
       "0"
      ]
     },
     "execution_count": 24,
     "metadata": {},
     "output_type": "execute_result"
    }
   ],
   "source": [
    "os.system(' '.join([\n",
    "  \"qiime feature-table summarize\", \n",
    "  \"--i-table \"+WorkDir+\"table.qza\", \n",
    "  \"--o-visualization \"+WorkDir+\"feature-table-summ.qzv\"\n",
    "     ]))\n",
    "\n",
    "os.system(' '.join([\n",
    "\n",
    "\"qiime feature-table tabulate-seqs\",\n",
    "  \"--i-data \"+WorkDir+\"rep-seqs.qza\",\n",
    "  \"--o-visualization \"+WorkDir+\"rep-seqs-summ.qzv\"\n",
    "    ]))"
   ]
  },
  {
   "cell_type": "code",
   "execution_count": 25,
   "id": "748bdb71-3e71-44ff-96e1-c4151d16b17f",
   "metadata": {},
   "outputs": [
    {
     "name": "stdout",
     "output_type": "stream",
     "text": [
      "Saved FeatureData[AlignedSequence] to: /project/mmicrobe/Kelley/16S/aligned-rep-seqs.qza\n",
      "Saved FeatureData[AlignedSequence] to: /project/mmicrobe/Kelley/16S/masked-aligned-rep-seqs.qza\n",
      "Saved Phylogeny[Unrooted] to: /project/mmicrobe/Kelley/16S/unrooted-tree.qza\n",
      "Saved Phylogeny[Rooted] to: /project/mmicrobe/Kelley/16S/rooted-tree.qza\n"
     ]
    },
    {
     "data": {
      "text/plain": [
       "0"
      ]
     },
     "execution_count": 25,
     "metadata": {},
     "output_type": "execute_result"
    }
   ],
   "source": [
    "os.system(' '.join([\n",
    "\"qiime phylogeny align-to-tree-mafft-fasttree\",\n",
    "\"--i-sequences \"+WorkDir+\"rep-seqs.qza\",\n",
    "\"--o-alignment \"+WorkDir+\"aligned-rep-seqs.qza\",\n",
    "\"--o-masked-alignment \"+WorkDir+\"masked-aligned-rep-seqs.qza\",\n",
    "\"--o-tree \"+WorkDir+\"unrooted-tree.qza\",\n",
    "\"--o-rooted-tree \"+WorkDir+\"rooted-tree.qza\",\n",
    "\"--p-n-threads \"+str(processors)\n",
    "    ]))"
   ]
  },
  {
   "cell_type": "markdown",
   "id": "6441625c-0679-49f8-8604-4b2f5c7e83b3",
   "metadata": {},
   "source": [
    "## Classify seqs\n",
    "This step requires a pre-trained classifier, instructions for training classifier are available on qiime2 website"
   ]
  },
  {
   "cell_type": "code",
   "execution_count": 3,
   "id": "7eb3af29-84a9-4be8-9245-b394bf458e5b",
   "metadata": {},
   "outputs": [
    {
     "name": "stdout",
     "output_type": "stream",
     "text": [
      "Saved FeatureData[Taxonomy] to: /project/mmicrobe/Kelley/16S/taxonomy.qza\n"
     ]
    },
    {
     "data": {
      "text/plain": [
       "0"
      ]
     },
     "execution_count": 3,
     "metadata": {},
     "output_type": "execute_result"
    }
   ],
   "source": [
    "os.system(' '.join([\n",
    "    \"qiime feature-classifier classify-sklearn\",\n",
    "      \"--i-classifier /project/mmicrobe/databases/16S_taxonomy/Silva-138-99-515-806.classifier.qza\",\n",
    "      \"--i-reads \"+WorkDir+\"rep-seqs.qza\",\n",
    "      \"--o-classification \"+WorkDir+\"taxonomy.qza\" \n",
    "    ]))"
   ]
  },
  {
   "cell_type": "code",
   "execution_count": 4,
   "id": "debc3b3b-0c4b-4321-bc47-5766041bd58a",
   "metadata": {},
   "outputs": [
    {
     "name": "stdout",
     "output_type": "stream",
     "text": [
      "Saved Visualization to: /project/mmicrobe/Kelley/16S/taxonomy.qzv\n"
     ]
    },
    {
     "data": {
      "text/plain": [
       "0"
      ]
     },
     "execution_count": 4,
     "metadata": {},
     "output_type": "execute_result"
    }
   ],
   "source": [
    "os.system(' '.join([\n",
    "    \"qiime metadata tabulate\",\n",
    "      \"--m-input-file \"+WorkDir+\"taxonomy.qza\",\n",
    "      \"--o-visualization \"+WorkDir+\"taxonomy.qzv\"\n",
    "     ]))"
   ]
  },
  {
   "cell_type": "markdown",
   "id": "1b302f51-1f39-403d-8b74-61783cb4dbda",
   "metadata": {},
   "source": [
    "## Hand off to phyloseq"
   ]
  },
  {
   "cell_type": "markdown",
   "id": "74ce95ae-8cd5-40ca-a572-e721e66a61a9",
   "metadata": {},
   "source": [
    "### Format Taxonomy Table\n",
    "Pulled from Buckley Lab pipeline"
   ]
  },
  {
   "cell_type": "code",
   "execution_count": 12,
   "id": "cc68a7f3-e91d-46fb-bbb2-0af54445cffb",
   "metadata": {},
   "outputs": [],
   "source": [
    "## Make Function to Re-Format Taxonomy File to Contain Full Column Information \n",
    "# and factor in the certain of the taxonomic assignment\n",
    "\n",
    "def format_taxonomy(tax_file, classification_db, min_support):\n",
    "    output = open(re.sub(\".tsv\",\".fixed.tsv\",tax_file), \"w\")\n",
    "\n",
    " \n",
    "    # Silva db lacks species classifications\n",
    "    if classification_db == \"GreenGenes\":\n",
    "        full_rank_length = 7\n",
    "        output.write(\"\\t\".join([\"OTU\",\"Domain\",\"Phylum\",\"Class\",\"Order\",\"Family\",\"Genus\",\"Species\"])+\"\\n\")\n",
    "    else:\n",
    "        full_rank_length = 6  \n",
    "        output.write(\"\\t\".join([\"OTU\",\"Domain\",\"Phylum\",\"Class\",\"Order\",\"Family\",\"Genus\",\"Species\"])+\"\\n\")\n",
    "        \n",
    "    with open(tax_file, \"r\") as f:\n",
    "        next(f) #skip header\n",
    "\n",
    "        for line in f:\n",
    "            line = line.strip()\n",
    "            line = line.split(\"\\t\")\n",
    "\n",
    "            read_id = line[0]\n",
    "            tax_string = line[1]\n",
    "\n",
    "            ## Remove All Underscore Garbage (I need aesthetics)\n",
    "            if classification_db == \"GreenGenes\":\n",
    "                tax_string = re.sub(\"k__|p__|c__|o__|f__|g__|s__\",\"\",tax_string)\n",
    "            else:\n",
    "                tax_string = re.sub(\"d__|p__|c__|o__|f__|g__|s__\",\"\",tax_string)\n",
    "            \n",
    "            # Split full rank into ranks\n",
    "            full_rank = tax_string.split(\";\")\n",
    "          \n",
    "            # Getting trailing empty tab in Silva\n",
    "            if full_rank[len(full_rank)-1] == \"\":\n",
    "                    full_rank = full_rank[:-1]\n",
    "                    \n",
    "            ## Identify the Lowest Classified Taxonomic Rank\n",
    "            # Account for cases when a taxonomic rank contains an empty space (common in GreenGenes output)\n",
    "            last_classified = full_rank[len(full_rank)-1]            \n",
    "\n",
    "            count = 1\n",
    "            while last_classified == \" \":\n",
    "                last_classified = full_rank[len(full_rank)-count]\n",
    "                count = count + 1\n",
    "\n",
    "            # Annotate the last classified as 'putative' if it does not meet the minimum support criteria\n",
    "            # Older versions of this script contain code to designate all taxonomic ranks as 'putative' in this case, but \n",
    "            # this seems conservative\n",
    "            if float(line[2]) < float(min_support):\n",
    "                    full_rank[full_rank.index(last_classified)] = \"putative \"+last_classified\n",
    "                    last_classified = \"putative \"+last_classified\n",
    "                    \n",
    "            # Add in columns containing unclassified taxonomic information\n",
    "            try: # In Silva, many classifications are a single entry (which breaks from the reliance on lists for full_rank.index)\n",
    "                for n in range(full_rank.index(last_classified)+1, full_rank_length, 1):               \n",
    "                    try:\n",
    "                        full_rank[n] = \"unclassified \"+last_classified\n",
    "                    except:\n",
    "                        full_rank.append(\"unclassified \"+last_classified)\n",
    "            except:\n",
    "                for n in range(0, full_rank_length, 1):               \n",
    "                    try:\n",
    "                        full_rank[n] = \"unclassified \"+last_classified\n",
    "                    except:\n",
    "                        full_rank.append(\"unclassified \"+last_classified)\n",
    "                    \n",
    "            # Clean-up the trailing whitespace introduced in Silva classification \n",
    "            if classification_db == \"Silva\":\n",
    "                full_rank = [x.strip(' ') for x in full_rank]\n",
    "\n",
    "            # Write Taxonomy to File\n",
    "            output.write(read_id+\"\\t\"+'\\t'.join(full_rank)+\"\\n\")\n",
    "            \n",
    "    return()"
   ]
  },
  {
   "cell_type": "code",
   "execution_count": 5,
   "id": "c3d2daef-1aaf-494d-aad2-99cefe433c7f",
   "metadata": {},
   "outputs": [],
   "source": [
    "## Final Output Names\n",
    "OutDir = WorkDir+\"output/\"\n",
    "fasta_file = \"rep.seqs.final.fasta\"\n",
    "tree_file = \"tree.final.nwk\"\n",
    "tax_file = \"taxonomy.final.tsv\"\n",
    "count_table = \"counts.final.biom\""
   ]
  },
  {
   "cell_type": "code",
   "execution_count": 14,
   "id": "40a028be-b5ac-45ed-b560-9fd762ae645a",
   "metadata": {},
   "outputs": [
    {
     "name": "stdout",
     "output_type": "stream",
     "text": [
      "Exported /project/mmicrobe/Kelley/16S/taxonomy.qza as TSVTaxonomyDirectoryFormat to directory /project/mmicrobe/Kelley/16S/output/\n"
     ]
    },
    {
     "data": {
      "text/plain": [
       "0"
      ]
     },
     "execution_count": 14,
     "metadata": {},
     "output_type": "execute_result"
    }
   ],
   "source": [
    "\n",
    "\n",
    "# Export Classifications\n",
    "os.system(' '.join([\n",
    "    \"qiime tools export\",\n",
    "    \"--input-path \"+WorkDir+\"taxonomy.qza\",\n",
    "    \"--output-path \"+OutDir\n",
    "]))"
   ]
  },
  {
   "cell_type": "code",
   "execution_count": 15,
   "id": "b6a6fe6f-bbc3-4322-bbdb-77017a678729",
   "metadata": {},
   "outputs": [
    {
     "data": {
      "text/html": [
       "<div>\n",
       "<style scoped>\n",
       "    .dataframe tbody tr th:only-of-type {\n",
       "        vertical-align: middle;\n",
       "    }\n",
       "\n",
       "    .dataframe tbody tr th {\n",
       "        vertical-align: top;\n",
       "    }\n",
       "\n",
       "    .dataframe thead th {\n",
       "        text-align: right;\n",
       "    }\n",
       "</style>\n",
       "<table border=\"1\" class=\"dataframe\">\n",
       "  <thead>\n",
       "    <tr style=\"text-align: right;\">\n",
       "      <th></th>\n",
       "      <th>Domain</th>\n",
       "      <th>Phylum</th>\n",
       "      <th>Class</th>\n",
       "      <th>Order</th>\n",
       "      <th>Family</th>\n",
       "      <th>Genus</th>\n",
       "      <th>Species</th>\n",
       "    </tr>\n",
       "  </thead>\n",
       "  <tbody>\n",
       "    <tr>\n",
       "      <th>95c1642a34dc6f9254a2a35d91b96bb6</th>\n",
       "      <td>Bacteria</td>\n",
       "      <td>Cyanobacteria</td>\n",
       "      <td>Cyanobacteriia</td>\n",
       "      <td>Chloroplast</td>\n",
       "      <td>unclassified  Chloroplast</td>\n",
       "      <td>unclassified  Chloroplast</td>\n",
       "      <td>NaN</td>\n",
       "    </tr>\n",
       "    <tr>\n",
       "      <th>8bb7877fd56f2cad78ad527196262789</th>\n",
       "      <td>Bacteria</td>\n",
       "      <td>Proteobacteria</td>\n",
       "      <td>Alphaproteobacteria</td>\n",
       "      <td>Rhizobiales</td>\n",
       "      <td>Xanthobacteraceae</td>\n",
       "      <td>Bradyrhizobium</td>\n",
       "      <td>NaN</td>\n",
       "    </tr>\n",
       "    <tr>\n",
       "      <th>3f436d6b86352d550329a4214b831791</th>\n",
       "      <td>Bacteria</td>\n",
       "      <td>Proteobacteria</td>\n",
       "      <td>Alphaproteobacteria</td>\n",
       "      <td>Rickettsiales</td>\n",
       "      <td>Mitochondria</td>\n",
       "      <td>Mitochondria</td>\n",
       "      <td>Arachis_hypogaea</td>\n",
       "    </tr>\n",
       "    <tr>\n",
       "      <th>549ef84d35d811faf6370ccb8c8f865d</th>\n",
       "      <td>Bacteria</td>\n",
       "      <td>Firmicutes</td>\n",
       "      <td>Bacilli</td>\n",
       "      <td>Lactobacillales</td>\n",
       "      <td>Listeriaceae</td>\n",
       "      <td>Listeria</td>\n",
       "      <td>NaN</td>\n",
       "    </tr>\n",
       "    <tr>\n",
       "      <th>77b46e4c6553c46ef4ed739ddbc42db0</th>\n",
       "      <td>Bacteria</td>\n",
       "      <td>Chloroflexi</td>\n",
       "      <td>KD4-96</td>\n",
       "      <td>unclassified  KD4-96</td>\n",
       "      <td>unclassified  KD4-96</td>\n",
       "      <td>unclassified  KD4-96</td>\n",
       "      <td>NaN</td>\n",
       "    </tr>\n",
       "  </tbody>\n",
       "</table>\n",
       "</div>"
      ],
      "text/plain": [
       "                                    Domain          Phylum  \\\n",
       "95c1642a34dc6f9254a2a35d91b96bb6  Bacteria   Cyanobacteria   \n",
       "8bb7877fd56f2cad78ad527196262789  Bacteria  Proteobacteria   \n",
       "3f436d6b86352d550329a4214b831791  Bacteria  Proteobacteria   \n",
       "549ef84d35d811faf6370ccb8c8f865d  Bacteria      Firmicutes   \n",
       "77b46e4c6553c46ef4ed739ddbc42db0  Bacteria     Chloroflexi   \n",
       "\n",
       "                                                Class                 Order  \\\n",
       "95c1642a34dc6f9254a2a35d91b96bb6       Cyanobacteriia           Chloroplast   \n",
       "8bb7877fd56f2cad78ad527196262789  Alphaproteobacteria           Rhizobiales   \n",
       "3f436d6b86352d550329a4214b831791  Alphaproteobacteria         Rickettsiales   \n",
       "549ef84d35d811faf6370ccb8c8f865d              Bacilli       Lactobacillales   \n",
       "77b46e4c6553c46ef4ed739ddbc42db0               KD4-96  unclassified  KD4-96   \n",
       "\n",
       "                                                     Family  \\\n",
       "95c1642a34dc6f9254a2a35d91b96bb6  unclassified  Chloroplast   \n",
       "8bb7877fd56f2cad78ad527196262789          Xanthobacteraceae   \n",
       "3f436d6b86352d550329a4214b831791               Mitochondria   \n",
       "549ef84d35d811faf6370ccb8c8f865d               Listeriaceae   \n",
       "77b46e4c6553c46ef4ed739ddbc42db0       unclassified  KD4-96   \n",
       "\n",
       "                                                      Genus           Species  \n",
       "95c1642a34dc6f9254a2a35d91b96bb6  unclassified  Chloroplast               NaN  \n",
       "8bb7877fd56f2cad78ad527196262789             Bradyrhizobium               NaN  \n",
       "3f436d6b86352d550329a4214b831791               Mitochondria  Arachis_hypogaea  \n",
       "549ef84d35d811faf6370ccb8c8f865d                   Listeria               NaN  \n",
       "77b46e4c6553c46ef4ed739ddbc42db0       unclassified  KD4-96               NaN  "
      ]
     },
     "execution_count": 15,
     "metadata": {},
     "output_type": "execute_result"
    }
   ],
   "source": [
    "# Reformat Classifications to meet phyloseq format   \n",
    "format_taxonomy(OutDir+\"taxonomy.tsv\", db, min_support)\n",
    "taxtab = ps.read_table(OutDir+\"taxonomy.fixed.tsv\")\n",
    "taxtab = taxtab.set_index(\"OTU\", drop=True).rename_axis(None) \n",
    "taxtab.to_csv(OutDir+\"taxonomy.fixed.tsv\", sep=\"\\t\")\n",
    "taxtab.head()"
   ]
  },
  {
   "cell_type": "code",
   "execution_count": 35,
   "id": "5ac926aa-771b-45a8-b02f-8e076491e4b6",
   "metadata": {},
   "outputs": [
    {
     "name": "stdout",
     "output_type": "stream",
     "text": [
      "Exported /project/mmicrobe/Kelley/16S/table.qza as BIOMV210DirFmt to directory /project/mmicrobe/Kelley/16S/output/\n"
     ]
    },
    {
     "data": {
      "text/plain": [
       "0"
      ]
     },
     "execution_count": 35,
     "metadata": {},
     "output_type": "execute_result"
    }
   ],
   "source": [
    "   # Export SV Table\n",
    "os.system(' '.join([\n",
    "    \"qiime tools export\",\n",
    "    \"--input-path \"+WorkDir+\"table.qza\",\n",
    "    \"--output-path \"+OutDir\n",
    "])) "
   ]
  },
  {
   "cell_type": "code",
   "execution_count": 38,
   "id": "0bd933f0-d245-45c8-9393-cc186c0daa90",
   "metadata": {},
   "outputs": [
    {
     "name": "stdout",
     "output_type": "stream",
     "text": [
      "Exported /project/mmicrobe/Kelley/16S/rep-seqs.qza as DNASequencesDirectoryFormat to directory /project/mmicrobe/Kelley/16S/output/\n"
     ]
    },
    {
     "data": {
      "text/plain": [
       "0"
      ]
     },
     "execution_count": 38,
     "metadata": {},
     "output_type": "execute_result"
    }
   ],
   "source": [
    " # Export SV Sequences\n",
    "os.system(' '.join([\n",
    "    \"qiime tools export\",\n",
    "    \"--input-path \"+WorkDir+\"rep-seqs.qza\",\n",
    "    \"--output-path \"+OutDir\n",
    "]))"
   ]
  },
  {
   "cell_type": "code",
   "execution_count": 39,
   "id": "9d5cccf1-b409-4f00-bd62-e32c3043f937",
   "metadata": {},
   "outputs": [
    {
     "name": "stdout",
     "output_type": "stream",
     "text": [
      "Exported /project/mmicrobe/Kelley/16S/rooted-tree.qza as NewickDirectoryFormat to directory /project/mmicrobe/Kelley/16S/output/\n"
     ]
    },
    {
     "data": {
      "text/plain": [
       "0"
      ]
     },
     "execution_count": 39,
     "metadata": {},
     "output_type": "execute_result"
    }
   ],
   "source": [
    "# Export Tree\n",
    "os.system(' '.join([\n",
    "    \"qiime tools export\",\n",
    "    \"--input-path \"+WorkDir+\"rooted-tree.qza\",\n",
    "    \"--output-path \"+OutDir\n",
    "]))"
   ]
  },
  {
   "cell_type": "markdown",
   "id": "b02d9412-f6c0-4df9-ac80-6d35effa979e",
   "metadata": {},
   "source": [
    "## Prepare exported files for input to phyloseq"
   ]
  },
  {
   "cell_type": "code",
   "execution_count": 42,
   "id": "7438cf24-a151-4ec8-8ad5-13422d54579a",
   "metadata": {},
   "outputs": [
    {
     "data": {
      "text/plain": [
       "0"
      ]
     },
     "execution_count": 42,
     "metadata": {},
     "output_type": "execute_result"
    }
   ],
   "source": [
    "# Convert Count Data\n",
    "os.system(' '.join([\n",
    "    \"biom convert\",\n",
    "    \"-i\",\n",
    "    OutDir+\"feature-table.biom\",\n",
    "    \"-o\",\n",
    "    OutDir+\"counts.final.tsv\",\n",
    "    \"--to-tsv\"\n",
    "]))"
   ]
  },
  {
   "cell_type": "code",
   "execution_count": 43,
   "id": "28152d1b-1908-4886-ac4d-eeb07cfa3fc2",
   "metadata": {},
   "outputs": [],
   "source": [
    "\n",
    "def fix_biom_conversion(file):\n",
    "    with open(file, 'r') as fin:\n",
    "        data = fin.read().splitlines(True)\n",
    "    with open(file, 'w') as fout:\n",
    "        fout.writelines(data[1:])\n",
    "        "
   ]
  },
  {
   "cell_type": "code",
   "execution_count": 44,
   "id": "1c0dbe4b-776b-427d-a9b1-37e8703dac42",
   "metadata": {},
   "outputs": [],
   "source": [
    "# The biom converter adds a stupid line that messes with the table formatting\n",
    "fix_biom_conversion(OutDir+\"counts.final.tsv\")"
   ]
  },
  {
   "cell_type": "code",
   "execution_count": 7,
   "id": "6bfaa9fb-2a42-4d3a-b3cb-1f3f8519e8f3",
   "metadata": {},
   "outputs": [],
   "source": [
    "count_table = ps.read_csv(OutDir+\"counts.final.tsv\", sep=\"\\t\")\n",
    "count_table = count_table.set_index(\"#OTU ID\", drop=True).rename_axis(None) \n",
    "count_table.head()\n",
    "count_table.to_csv(OutDir+\"counts.fixed.tsv\", sep=\"\\t\")"
   ]
  }
 ],
 "metadata": {
  "kernelspec": {
   "display_name": "qiime2-2023.2",
   "language": "python",
   "name": "qiime2-2023.2"
  },
  "language_info": {
   "codemirror_mode": {
    "name": "ipython",
    "version": 3
   },
   "file_extension": ".py",
   "mimetype": "text/x-python",
   "name": "python",
   "nbconvert_exporter": "python",
   "pygments_lexer": "ipython3",
   "version": "3.8.15"
  }
 },
 "nbformat": 4,
 "nbformat_minor": 5
}
